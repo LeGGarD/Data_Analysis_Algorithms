{
 "cells": [
  {
   "cell_type": "code",
   "execution_count": 15,
   "metadata": {},
   "outputs": [],
   "source": [
    "import numpy as np\n",
    "import matplotlib.pyplot as plt"
   ]
  },
  {
   "cell_type": "code",
   "execution_count": 2,
   "metadata": {},
   "outputs": [],
   "source": [
    "def calc_mse(y, y_pred):\n",
    "    err = np.mean((y - y_pred)**2)\n",
    "    return err"
   ]
  },
  {
   "cell_type": "code",
   "execution_count": 3,
   "metadata": {},
   "outputs": [],
   "source": [
    "y = [45, 55, 50, 59, 65, 35, 75, 80, 50, 60]\n",
    "X = np.array([[1, 1, 1, 1, 1, 1, 1, 1, 1, 1],\n",
    "              [1, 1, 2, 1, 3, 0, 5, 10, 1, 2]])"
   ]
  },
  {
   "cell_type": "code",
   "execution_count": 4,
   "metadata": {},
   "outputs": [
    {
     "name": "stdout",
     "output_type": "stream",
     "text": [
      "0 [ 7.612 20.9  ] 3173.15\n",
      "100 [47.16625286  3.92288138] 45.94015500316733\n",
      "200 [47.23203786  3.91073367] 45.937500006742276\n",
      "300 [47.23214269  3.91071432] 45.93750000000002\n",
      "400 [47.23214286  3.91071429] 45.9375\n",
      "500 [47.23214286  3.91071429] 45.93749999999999\n",
      "600 [47.23214286  3.91071429] 45.937500000000014\n",
      "700 [47.23214286  3.91071429] 45.937500000000014\n",
      "800 [47.23214286  3.91071429] 45.937500000000014\n",
      "900 [47.23214286  3.91071429] 45.937500000000014\n"
     ]
    }
   ],
   "source": [
    "n = X.shape[1]\n",
    "alpha = 6e-2 # если немного увеличить альфа, до 7е-2, то алгоритм расходится\n",
    "W = np.array([1, 0.5])\n",
    "\n",
    "for i in range(1000):\n",
    "    y_pred = np.dot(W, X)\n",
    "    err = calc_mse(y, y_pred)\n",
    "    for ii in range(W.shape[0]):\n",
    "        W[ii] -= alpha * (1/n * 2 * np.sum(X[ii] * (y_pred - y)))\n",
    "    \n",
    "    if i % 100 == 0:\n",
    "        print(i, W, err)"
   ]
  },
  {
   "cell_type": "code",
   "execution_count": 13,
   "metadata": {},
   "outputs": [
    {
     "name": "stdout",
     "output_type": "stream",
     "text": [
      "0 [ 7.612 20.9  ] 3173.15\n",
      "50 [45.5816168   4.21574742] 47.603575735386094\n",
      "100 [47.16625286  3.92288138] 45.94015500316733\n",
      "150 [47.22951256  3.91119999] 45.937504230928766\n",
      "200 [47.23203786  3.91073367] 45.937500006742276\n",
      "250 [47.23213867  3.91071506] 45.93750000001074\n",
      "300 [47.23214269  3.91071432] 45.93750000000002\n",
      "350 [47.23214285  3.91071429] 45.93749999999999\n",
      "400 [47.23214286  3.91071429] 45.9375\n",
      "450 [47.23214286  3.91071429] 45.937500000000014\n"
     ]
    }
   ],
   "source": [
    "n = X.shape[1]\n",
    "alpha = 6e-2\n",
    "W = np.array([1, 0.5])\n",
    "\n",
    "for i in range(500):\n",
    "    y_pred = np.dot(W, X)\n",
    "    err = calc_mse(y, y_pred)\n",
    "#   W -= (alpha * (1/n * 2 * np.sum(X * (y_pred - y))))\n",
    "#   заменяем np.sum и обычное умножение на скалярное, так как работаем сразу с нампаевской матрицей\n",
    "#   получаем точно те же самые значения, профит\n",
    "    W -= (alpha * (1/n * 2 * np.dot(X, (y_pred - y))))\n",
    "    \n",
    "    if i % 50 == 0:\n",
    "        print(i, W, err)"
   ]
  },
  {
   "cell_type": "markdown",
   "metadata": {},
   "source": [
    "Хватает около 300-400 итераций, чтобы добиться точности mse до десятого знака"
   ]
  },
  {
   "cell_type": "code",
   "execution_count": 17,
   "metadata": {},
   "outputs": [
    {
     "data": {
      "image/png": "[encoded data removed]",
      "text/plain": [
       "<Figure size 720x504 with 1 Axes>"
      ]
     },
     "metadata": {
      "needs_background": "light"
     },
     "output_type": "display_data"
    }
   ],
   "source": [
    "fig = plt.figure(figsize=(10, 7))\n",
    "plt.scatter(X[1], y)\n",
    "plt.plot(X[1], W[0] + W[1] * X[1])\n",
    "plt.show()"
   ]
  },
  {
   "cell_type": "markdown",
   "metadata": {},
   "source": [
    "В итоге, подобрав коэффициенты линейной регрессии методом градиентного спуска, наша модель работает со среднеквадратичной ошибкой 45.9375 и выглядит как на графике выше "
   ]
  }
 ],
 "metadata": {
  "kernelspec": {
   "display_name": "Python 3",
   "language": "python",
   "name": "python3"
  },
  "language_info": {
   "codemirror_mode": {
    "name": "ipython",
    "version": 3
   },
   "file_extension": ".py",
   "mimetype": "text/x-python",
   "name": "python",
   "nbconvert_exporter": "python",
   "pygments_lexer": "ipython3",
   "version": "3.8.5"
  }
 },
 "nbformat": 4,
 "nbformat_minor": 4
}
